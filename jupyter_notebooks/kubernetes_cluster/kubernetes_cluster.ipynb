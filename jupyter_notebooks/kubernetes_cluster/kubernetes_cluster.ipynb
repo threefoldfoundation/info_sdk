{
 "cells": [
 {
 "cell_type": "markdown",
 "metadata": {},
 "source": [
 "## Deploy a a kubernetes cluster\n",
 "\n",
 "#### Requirements\n",
 "\n",
 "In order to be able to deploy this example deployment you will have to have the following components activated\n",
 "- the TF Grid SDK, in the form of a local container with the SDK, or a grid based SDK container. Getting started instuctions are [here](https://github.com/Threefoldfoundation/info_projectX/tree/development/doc/jumpscale_SDK) \n",
 "- if you use a locally installed container with the 3Bot SDK you need to have the wireguard software installed. Instructions to how to get his installed on your platform could be found [here](https://www.wireguard.com/install/)\n",
 "- capacity reservation are not free so you will need to have some ThreeFold_Tokens (TFT) to play around with. Instructions to get tokens could be found [here](https://github.com/Threefoldfoundation/info_projectX/blob/development/doc/jumpscale_SDK_information/payment/FreeTFT_testtoken.md)\n",
 "\n",
 "After following these install instructions you should end up having a local, working TF Grid SDK installed. You could work / connect to the installed SDK as described [here](https://github.com/Threefoldfoundation/info_projectX/blob/development/doc/jumpscale_SDK/SDK_getting_started.md)\n",
 "\n",
 "### Overview\n",
 "The design a simple kubernetes cluster we need to follow a few steps:\n",
 "- create (or identify and use) an overlay network that spans all of the nodes needed in the solution\n",
 "- identify which nodes are involved in the kubernetes cluster, master and worker nodes\n",
 "- create reservations for the kubernetes virtual machines.\n",
 "- deploy the kubernetes cluster.\n",
 "\n",
 "#### Create overlay network of identity an previously deployed overlay network\n",
 "\n",
 "Each overlay network is private and contains private IP addresses. Each overlay network is deployed in such a way that is has no connection to the public (IPv4 or IPv6) network directly. In order to work with such a network a tunnel needs to be created between the overlay network on the grid and your local network. You could find instructions how to do that [here](https://github.com/Threefoldfoundation/info_projectX/blob/development/doc/jumpscale_SDK_examples/network/overlay_network.md)\n"
 ]
 },
 {
 "cell_type": "markdown",
 "metadata": {},
 "source": [
 "#### Set up the capacity environment to find, reserve and configure\n",
 "\n",
 "Make sure that your SDK points to the mainnet explorer for deploying this capacity example. Also make sure you have an identity loaded. The example code uses the default identity. Multiple identities could be stored in the TF Grid SDK. To check your available identities you could request the number of identities available for you by typing `j.tools.threebot.me` in the kosmos shell.\n"
 ]
 },
 {
 "cell_type": "code",
 "execution_count": null,
 "metadata": {},
 "outputs": [],
 "source": [
 "from Jumpscale import j\n",
 "import time\n",
 "\n",
 "# Which identities are available in you SDK\n",
 "j.tools.threebot.me\n",
 "\n",
 "# Make sure I have an identity (set default one for mainnet of testnet)\n",
 "me = j.tools.threebot.me.default\n",
 "\n",
 "# Load the zero-os sal and reate empty reservation method\n",
 "zos = j.sal.zosv2\n",
 "r = zos.reservation_create()"
 ]
 },
 {
 "cell_type": "markdown",
 "metadata": {},
 "source": [
 "#### Setup your overlay network (skip this step if you have a network setup and available)\n",
 "\n",
 "An overlay network creates a private peer2peer network over selected nodes. In this notebook it is assumend you have created one by following this [notebook](https://github.com/Threefoldfoundation/info_projectX/blob/development/code/jupyter/SDK_examples/network/overlay_network.ipynb)\n",
 "\n",
 "#### Design the Kubernetes cluster\n",
 "\n",
 "You have created a network in the network creation [notebook](https://github.com/Threefoldfoundation/info_projectX/blob/development/code/jupyter/SDK_examples/network/overlay_network.ipynb) with the following details:\n",
 "```\n",
 "demo_ip_range=\"172.20.0.0/16\"\n",
 "demo_port=8030\n",
 "demo_network_name=\"demo_network_name_01\"\n",
 "```\n",
 "When you executed the reservation it also provided you with data on order number, node ID and private network range on the node. All the nodes in the network are connected peer2peer with a wireguard tunnel. On these nodes we could now create the kubernetes solution. For this solution we will be using some of these nodes as master nodes and others as worker nodes. Using the ouput of the network reservation notebook to describe the high level design of the kubernetes cluster:\n",
 "\n",
 "| Nr. | Location | Node ID. | IPV4 network | Function. |\n",
 "|--------|---|---|---|---|\n",
 "| 1 | Salzburg | 9kcLeTuseybGHGWw2YXvdu4kk2jZzyZCaCHV9t6Axqqx | 172.20.15.0/24 | Master node |\n",
 "| 2 | Salzburg | 3h4TKp11bNWjb2UemgrVwayuPnYcs2M1bccXvi3jPR2Y | 172.20.16.0/24 | Worker node |\n",
 "| 3 | Salzburg | FUq4Sz7CdafZYV2qJmTe3Rs4U4fxtJFcnV6mPNgGbmRg | 172.20.17.0/24 | Worker node |\n",
 "| 4 | Vienna | 9LmpYPBhnrL9VrboNmycJoGfGDjuaMNGsGQKeqrUMSii | 172.20.28.0/24 | Worker node |\n",
 "| 5 | Vienna | 3FPB4fPoxw8WMHsqdLHamfXAdUrcRwdZY7hxsFQt3odL | 172.20.29.0/24 | Worker node |\n",
 "| 6 | Vienna | CrgLXq3w2Pavr7XrVA7HweH6LJvLWnKPwUbttcNNgJX7 | 172.20.30.0/24 | Worker node |\n",
 "\n",
 "\n",
 "#### Reserve and deploy the master and worker nodes\n",
 "\n",
 "A Kubernetes cluster is built from master and worker nodes. Based on the network that we have build we could build and deploy nodes in Vienna and Salzbug,"
 ]
 },
 {
 "cell_type": "code",
 "execution_count": 1,
 "metadata": {},
 "outputs": [],
 "source": [
 "# load the zero-os sal\n",
 "zos = j.sal.zosv2\n",
 "\n",
 "day=24*60*60\n",
 "hour=60*60\n",
 "\n",
 "cluster_secret = 'supersecret'\n",
 "\n",
 "# At this point in time we have two sizes of virtual machines for Kubernetes clusters.\n",
 "# size 1 = 1 logical core and 2GB of memory\n",
 "# size 2 = 2 logical cores and 4GB of memory\n",
 "size = 1\n",
 "\n",
 "# set in the example network deployment - please replace with your personal network name.\n",
 "network_name = 'demo_network_name_01'\n",
 "\n",
 "# exmaple public ssh key. This is used to log in two the cluster nodes - please replace with you own ssh-key.\n",
 "sshkeys = ['ssh-ed25519 AAAAC3NzaC1lZDI1NTE5AAAAIMtml/KgilrDqSeFDBRLImhoAfIqikR2N9XH3pVbb7ex zaibon@tesla']"
 ]
 },
 {
 "cell_type": "markdown",
 "metadata": {},
 "source": [
 "Create the master node reservations. The function add the nodes to the reservation structure `r`.\n",
 "\n",
 "```python\n",
 "master = zos.kubernetes.add_master(\n",
 " reservation=r,   # reservation structure\n",
 " node_id=srting,   # node_id to make the capacity reservation on and deploy the Flist\n",
 " network_name=string,  # network_name deployed on the node (node could have multiple private networks)\n",
 " cluster_secret=string, # cluster pasword\n",
 " ip_address=string,  # IP address the network range defined by network_name on the node\n",
 " size=integer,   # 1 (1 logical core, 2GB of memory) or 2 (2 logical cores and 4GB of memory)\n",
 " ssh_keys=string)   # ssh public key providing ssh access to master of worker vm's\n",
 "```"
 ]
 },
 {
 "cell_type": "markdown",
 "metadata": {},
 "source": [
 "Now that we have defined the master node, let us deploy worker nodes. Worker nodes could exists anywhere in the deployed network so here we create 2 in Salzburgh and 2 in Vienna"
 ]
 },
 {
 "cell_type": "code",
 "execution_count": 1,
 "metadata": {},
 "outputs": [],
 "source": [
 "# Repeat for worker nodes, or create a looped assignment\n",
 "\n",
 "worker_1 = zos.kubernetes.add_worker(\n",
 " reservation=r,\n",
 " node_id='3h4TKp11bNWjb2UemgrVwayuPnYcs2M1bccXvi3jPR2Y',\n",
 " network_name=network_name,\n",
 " cluster_secret=cluster_secret,\n",
 " ip_address='172.24.16.20',\n",
 " size=size,\n",
 " master_ip=master.ipaddress,\n",
 " ssh_keys=sshkeys)\n",
 "\n",
 "worker_2 = zos.kubernetes.add_worker(\n",
 " reservation=r,\n",
 " node_id='FUq4Sz7CdafZYV2qJmTe3Rs4U4fxtJFcnV6mPNgGbmRg',\n",
 " network_name=network_name,\n",
 " cluster_secret=cluster_secret,\n",
 " ip_address='172.24.17.20',\n",
 " size=size,\n",
 " master_ip=master.ipaddress,\n",
 " ssh_keys=sshkeys)\n",
 "\n",
 "worker_3 = zos.kubernetes.add_worker(\n",
 " reservation=r,\n",
 " node_id='9LmpYPBhnrL9VrboNmycJoGfGDjuaMNGsGQKeqrUMSii',\n",
 " network_name=network_name,\n",
 " cluster_secret=cluster_secret,\n",
 " ip_address='172.24.28.20',\n",
 " size=size,\n",
 " master_ip=master.ipaddress,\n",
 " ssh_keys=sshkeys)\n",
 "\n"
 ]
 },
 {
 "cell_type": "code",
 "execution_count": null,
 "metadata": {},
 "outputs": [],
 "source": [
 "With the reservation structure done we could now reserve the cluster."
 ]
 },
 {
 "cell_type": "code",
 "execution_count": 1,
 "metadata": {},
 "outputs": [],
 "source": [
 "expiration = j.data.time.epoch + (24*hour)\n",
 "\n",
 "# register the reservation\n",
 "rid = zos.reservation_register(r, expiration)\n",
 "time.sleep(120)\n",
 "# inspect the result of the reservation provisioning\n",
 "result = zos.reservation_result(rid)\n",
 "\n",
 "print(\"provisioning result\")\n",
 "print(result)\n",
 "# ----------------------------------------------------------------------------------\n",
 "# Select and create a reservation for nodes to deploy a ZDB\n",
 "# first find the node where to reserve 0-DB namespaces. Select all the salzburg nodes\n",
 "# ----------------------------------------------------------------------------------"
 ]
 },
 {
 "cell_type": "markdown",
 "metadata": {},
 "source": [
 "With the low level reservations done and stored the `result`. You are now able to access you kubernetes cluster on the assigned IP addresses\n"
 ]
 },
 {
 "cell_type": "code",
 "execution_count": null,
 "metadata": {},
 "outputs": [],
 "source": []
 }
 ],
 "metadata": {
 "kernelspec": {
 "display_name": "Python 3",
 "language": "python",
 "name": "python3"
 },
 "language_info": {
 "codemirror_mode": {
 "name": "ipython",
 "version": 3
 },
 "file_extension": ".py",
 "mimetype": "text/x-python",
 "name": "python",
 "nbconvert_exporter": "python",
 "pygments_lexer": "ipython3",
 "version": "3.7.7"
 }
 },
 "nbformat": 4,
 "nbformat_minor": 4
}
