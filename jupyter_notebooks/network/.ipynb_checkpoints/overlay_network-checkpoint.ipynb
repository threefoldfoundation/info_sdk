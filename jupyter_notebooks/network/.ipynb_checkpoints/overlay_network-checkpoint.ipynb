{
 "cells": [
 {
 "cell_type": "markdown",
 "metadata": {},
 "source": [
 "### Create a private overlay network\n",
 "\n",
 "In this example we will create an overlay network over a number of nodes in the TF Grid. The nodes and locations could be researched on this explorer site: http://explorer.grid.tf\n",
 "\n",
 "#### Requirements\n",
 "\n",
 "In order to be able to deploy this example deployment you will have to have the following components activated\n",
 "- the 3Bot SDK, in the form of a local container with the SDK, or a grid based SDK container. Getting started instuctions are [here](https://github.com/Threefoldfoundation/info_projectX/tree/development/doc/jumpscale_SDK) \n",
 "- if you use a locally installed container with the 3Bot SDK you need to have the wireguard software installed. Instructions to how to get his installed on your platform could be found [here](https://www.wireguard.com/install/)\n",
 "- capacity reservation are not free so you will need to have some ThreeFold_Tokens (TFT) to play around with. Instructions to get tokens could be found [here](https://github.com/Threefoldfoundation/info_projectX/blob/development/doc/jumpscale_SDK_information/payment/FreeTFT_testtoken.md)\n",
 "\n",
 "After following these install instructions you should end up having a local, working TF Grid SDK installed. You could work / connect to the installed SDK as described [here](https://github.com/Threefoldfoundation/info_projectX/blob/development/doc/jumpscale_SDK/SDK_getting_started.md)\n",
 "\n",
 "#### 1. Mainnet and Identity\n",
 "First load you identity and make sure you are talking to the production explorer. This is done by making sure you have set the default explorer to `explorer.grid.tf`. Also you have to have an indentity set.\n"
 ]
 },
 {
 "cell_type": "code",
 "execution_count": null,
 "metadata": {},
 "outputs": [],
 "source": [
 "import time\n",
 "from Jumpscale import j\n",
 "\n",
 "# Which identities are available in you SDK\n",
 "j.tools.threebot.me\n",
 "\n",
 "# Make sure I have an identity (set default one for mainnet of testnet)\n",
 "me = j.tools.threebot.me.default\n",
 "j.clients.explorer.default_addr_set('explorer.grid.tf')"
 ]
 },
 {
 "cell_type": "markdown",
 "metadata": {},
 "source": [
 "#### 2. Load required libraries and create empty reservation structure\n",
 "\n",
 "To be able to made a reservation we need to local the System Abstraction Layer (SAL) and create an empty reservation structure"
 ]
 },
 {
 "cell_type": "code",
 "execution_count": null,
 "metadata": {},
 "outputs": [],
 "source": [
 "# Load the zero-os sal and reate empty reservation method\n",
 "zos = j.sal.zosv2\n",
 "r = zos.reservation_create()"
 ]
 },
 {
 "cell_type": "markdown",
 "metadata": {},
 "source": [
 "#### 3. Select overlay network addressing scheme and select nodes\n",
 "\n",
 "In this example we added all the nodes from the salzburg, vienna, lochristi and munich are into one list. You could shorten that list by selecting smaller sections of that list. For people that do not have IPv6 at home we need have at least one node on the network that has IPv4 access for the wireguard tunnel to terminate. "
 ]
 },
 {
 "cell_type": "code",
 "execution_count": null,
 "metadata": {},
 "outputs": [],
 "source": [
 "demo_ip_range=\"172.20.0.0/16\"\n",
 "demo_port=8030\n",
 "demo_network_name=\"demo_network_name_01\""
 ]
 },
 {
 "cell_type": "markdown",
 "metadata": {},
 "source": [
 "Now you need to look and select which nodes you want in your network. You could browse all available nodes on the [explorer.grid.tf](https://explorer.grid.tf/)\n",
 "\n",
 "The following code assumes that you know the farmer ID's of the farmers listed on the explorer. Here is how you could find the farmer ID:\n",
 "\n",
 "\n"
 ]
 },
 {
 "cell_type": "code",
 "execution_count": null,
 "metadata": {},
 "outputs": [],
 "source": [
 "# create overlay network definition in datastructure called \"network\"\n",
 "network = zos.network.create(r, ip_range=demo_ip_range, network_name=demo_network_name)\n",
 "\n",
 "nodes_salzburg = zos.nodes_finder.nodes_search(farm_id=12775) # (IPv6 nodes)\n",
 "nodes_vienna_1 = zos.nodes_finder.nodes_search(farm_id=82872) # (IPv6 nodes)\n",
 "nodes_belgium = zos.nodes_finder.nodes_search(farm_id=1) # (IPv4 nodes, to be used as ingress/egress point. These are not Web Gatewaysm, just nodes connected to the internet with IPv4 addresses)\n",
 "\n",
 "# nodes_all = nodes_salzburg + nodes_vienna_1 + nodes_belgium + nodes_munich\n",
 "nodes_all = nodes_salzburg[:2] + nodes_vienna_1[:2] + nodes_belgium[:2]\n",
 "\n",
 "# make sure to set a new port\n",
 "for i, node in enumerate(nodes_all):\n",
 " if zos.nodes_finder.filter_is_up(node):\n",
 "  iprange = f\"172.20.{i+10}.0/24\"\n",
 "  zos.network.add_node(network, node.node_id , iprange, wg_port=demo_port)\n",
 "  print(\"Node number: \", i, node.node_id, \":\", iprange)\n",
 " else:\n",
 "  print(\"Node\", node.node_id,\"is not up\")"
 ]
 },
 {
 "cell_type": "markdown",
 "metadata": {},
 "source": [
 "Please store the list of nodes somewhere for you reference to deploy containers and architectures, or you could write code to store this to a file. All nodes are connected with IPv6 to the internet. If you have IPv6 at home you could create a wireguard configuration to any of the nodes as they all speak IPv6 and any node could act as you private gateway into your overlay network. If you fo not have IPv6 at home you need to identify a nodes that has IPv4 capabilities. In this example the nodes in Belgium have a dual stack and could therefore be used to provide an IPv4 gateway into your overlay network.\n",
 "\n",
 "Important step is to create a wireguard configuration (file) providing you with secure access to you private peer2peer overlay network. Please copy / paste the configuration into a file and import to you local wireguard setup. At time of writing IPv4 was the only available stack and therefore this example has an IPv4 Wireguard configuration, based on one of the nodes in Belgium. With IPv6 available you could select any of the nodes in your network and build a secure tunnel to those. "
 ]
 },
 {
 "cell_type": "code",
 "execution_count": null,
 "metadata": {},
 "outputs": [],
 "source": [
 "# Enter here the node_id for the node that is the IPv4 bridge to create the wireguard config.\n",
 "wg_config = zos.network.add_access(network, 'CBDY1Fu4CuxGpdU3zLL9QT5DGaRkxjpuJmzV6V5CBWg4', '172.20.100.0/24', ipv4=True)\n",
 "\n",
 "print(\"------------------------\")\n",
 "print(wg_config)\n",
 "print(\"------------------------\")"
 ]
 },
 {
 "cell_type": "markdown",
 "metadata": {},
 "source": [
 "Copy the wireguard configuration to your local host on which the TF Grid SDK is running and bring the wireguard interface up. Instructions to do this are [here](https://www.wireguard.com/quickstart/)\n",
 "\n",
 "Now that we have built a network reservation structure which includes on the nodes we want to use, here how to send this reservation to the grid.\n"
 ]
 },
 {
 "cell_type": "code",
 "execution_count": null,
 "metadata": {},
 "outputs": [],
 "source": [
 "# Set the duration for the reservation\n",
 "# Reservation period set in seconds. Please adjust, this only allys for the network to exists for 60 minutes.\n",
 "reservation_period=(60*60)\n",
 "\n",
 "expiration = j.data.time.epoch + reservation_period\n",
 "\n",
 "# Register the reservation. All required data has been loaded in the reservation structrure: e\n",
 "rid = zos.reservation_register(r, expiration, identity=me)"
 ]
 },
 {
 "cell_type": "markdown",
 "metadata": {},
 "source": [
 "The returned number of the reservation number of the network reservation. To retrieve the actual content of the reservation you could use the following command"
 ]
 },
 {
 "cell_type": "code",
 "execution_count": null,
 "metadata": {},
 "outputs": [],
 "source": [
 "# inspect the result of the reservation provisioning\n",
 "result = zos.reservation_result(rid)\n",
 "\n",
 "print(\"provisioning result\")\n",
 "print(result)"
 ]
 },
 {
 "cell_type": "markdown",
 "metadata": {},
 "source": [
 "This will provide you with an overlay network. It is wise to do this once for the nodes that you want in your network and then do a reservation for a long period. This will allow you to continue to work, deploy, optimise and configure all neccessary components for the work on the grid. Obviously"
 ]
 }
 ],
 "metadata": {
 "kernelspec": {
 "display_name": "Bash",
 "language": "bash",
 "name": "bash"
 },
 "language_info": {
 "codemirror_mode": "shell",
 "file_extension": ".sh",
 "mimetype": "text/x-sh",
 "name": "bash"
 }
 },
 "nbformat": 4,
 "nbformat_minor": 4
}
