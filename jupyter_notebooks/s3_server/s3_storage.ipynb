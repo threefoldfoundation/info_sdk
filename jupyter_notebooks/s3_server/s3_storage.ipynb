{
 "cells": [
 {
  "cell_type": "markdown",
  "metadata": {},
  "source": [
  "## Deploy a simple S3 dispersed storage archive solution\n",
  "\n",
  "#### Requirements\n",
  "\n",
  "In order to be able to deploy this example deployment you will have to have the following components activated\n",
  "- the 3Bot SDK, in the form of a local container with the SDK, or a grid based SDK container. Getting started instuctions are [here](https://github.com/Threefoldfoundation/info_projectX/tree/development/doc/jumpscale_SDK) \n",
  "- if you use a locally installed container with the 3Bot SDK you need to have the wireguard software installed. Instructions to how to get his installed on your platform could be found [here](https://www.wireguard.com/install/)\n",
  "- capacity reservation are not free so you will need to have some ThreeFold_Tokens (TFT) to play around with. Instructions to get tokens could be found [here](https://github.com/Threefoldfoundation/info_projectX/blob/development/doc/jumpscale_SDK_information/payment/FreeTFT_testtoken.md)\n",
  "\n",
  "After following these install instructions you should end up having a local, working TF Grid SDK installed. You could work / connect to the installed SDK as described [here](https://github.com/Threefoldfoundation/info_projectX/blob/development/doc/jumpscale_SDK/SDK_getting_started.md)\n",
  "\n",
  "### Overview\n",
  "The design a simple S3 archive solution we need to follow a few simple steps:\n",
  "- create (or identify and use) an overlay network that spans all of the nodes needed in the solution\n",
  "- identify which nodes are involved in the archive for storage and which nodes are running the storage software\n",
  "- create reservations on the storage nodes for low level storage. Create and deploy zero-DB's\n",
  "- collect information of how to access and use the low level storage devices to be passed on to the S3 storage software\n",
  "- design the architecture, data and parity disk design\n",
  "- deploy the S3 software in a container\n",
  "\n",
  "#### Create overlay network of identity an previously deployed overlay network\n",
  "\n",
  "Each overlay network is private and contains private IP addresses. Each overlay network is deployed in such a way that is has no connection to the public (IPv4 or IPv6) network directly. In order to work with such a network a tunnel needs to be created between the overlay network on the grid and your local network. You could find instructions how to do that [here](https://github.com/Threefoldfoundation/info_projectX/blob/development/doc/jumpscale_SDK_examples/network/overlay_network.md)\n"
  ]
 },
 {
  "cell_type": "markdown",
  "metadata": {},
  "source": [
  "#### Set up the capacity environment to find, reserve and configure\n",
  "\n",
  "Make sure that your SDK points to the mainnet explorer for deploying this capacity example. Also make sure you have an identity loaded. The example code uses the default identity. Multiple identities could be stored in the TF Grid SDK. To check your available identities you could request the number of identities available for you by typing `j.tools.threebot.me` in the kosmos shell.\n"
  ]
 },
 {
  "cell_type": "code",
  "execution_count": null,
  "metadata": {},
  "outputs": [],
  "source": [
  "from Jumpscale import j\n",
  "import time\n",
  "\n",
  "j.clients.explorer.default_addr_set('explorer.grid.tf')\n",
  "\n",
  "# Which identities are available in you SDK\n",
  "j.tools.threebot.me\n",
  "\n",
  "# Make sure I have an identity (set default one for mainnet of testnet)\n",
  "me = j.tools.threebot.me.default\n",
  "\n",
  "# Load the zero-os sal and reate empty reservation method\n",
  "zos = j.sal.zosv2\n",
  "r = zos.reservation_create()"
  ]
 },
 {
  "cell_type": "markdown",
  "metadata": {},
  "source": [
  "#### Setup your overlay network (skip this step if you have a network setup and available)\n",
  "\n",
  "An overlay network creates a private peer2peer network over selected nodes. In this notebook it is assumend you have created one by following this [notebook](https://github.com/Threefoldfoundation/info_projectX/blob/development/code/jupyter/SDK_examples/network/overlay_network.ipynb)\n",
  "\n",
  "#### Design the S3 simple storage solution\n",
  "\n",
  "You have created a network in the network creation [notebook](https://github.com/Threefoldfoundation/info_projectX/blob/development/code/jupyter/SDK_examples/network/overlay_network.ipynb) with the following details:\n",
  "```\n",
  "demo_ip_range=\"172.20.0.0/16\"\n",
  "demo_port=8030\n",
  "demo_network_name=\"demo_network_name_01\"\n",
  "```\n",
  "\n",
  "When you executed the reservation it also provided you with a data on order number, node ID and private network range on the node. All the nodes in the network are connected peer2peer with a wireguard tunnel. On these nodes we could now create a storage solution. For this solution we will using some of these nodes as raw storage provider nodes and others as the storage application nodes. Using the ouput of the network reservation notebook to describe the high level design of the storage solution:\n",
  "\n",
  "| Nr. | Location | Node ID.  | IPV4 network  | Function. |\n",
  "|--------|---|---|---|---|\n",
  "|  1  | Salzburg | 9kcLeTuseybGHGWw2YXvdu4kk2jZzyZCaCHV9t6Axqqx | 172.20.15.0/24 | Storage sofware container, 10GB raw |\n",
  "|  2  | Salzburg | 3h4TKp11bNWjb2UemgrVwayuPnYcs2M1bccXvi3jPR2Y | 172.20.16.0/24 | 10GB raw |\n",
  "|  3  | Salzburg | FUq4Sz7CdafZYV2qJmTe3Rs4U4fxtJFcnV6mPNgGbmRg | 172.20.17.0/24 | 10GB raw |\n",
  "|  4  | Vienna | 9LmpYPBhnrL9VrboNmycJoGfGDjuaMNGsGQKeqrUMSii | 172.20.28.0/24 | 10GB raw |\n",
  "|  5  | Vienna | 3FPB4fPoxw8WMHsqdLHamfXAdUrcRwdZY7hxsFQt3odL | 172.20.29.0/24 | 10GB raw |\n",
  "|  6  | Vienna | CrgLXq3w2Pavr7XrVA7HweH6LJvLWnKPwUbttcNNgJX7 | 172.20.30.0/24 | 10GB raw |\n",
  "\n",
  "\n",
  "#### Reserve and deploy the low level ZeroDB storage nodes\n",
  "\n",
  "First let's deploy low level storage capacity manager (Zero BD, more info [here](https://github.com/Threefoldtech/0-DB)). In the next piece of code we do the following:\n",
  "- create some empty reservation and result structures\n",
  "- select and set the node to container the S3 software\n",
  "- select and load the nodes in a list to push them in the zero-DB reservation structure"
  ]
 },
 {
  "cell_type": "code",
  "execution_count": null,
  "metadata": {},
  "outputs": [],
  "source": [
  "# load the zero-os sal\n",
  "zos = j.sal.zosv2\n",
  "\n",
  "day=24*60*60\n",
  "hour=60*60\n",
  "\n",
  "# Node: 5 ID: 9kcLeTuseybGHGWw2YXvdu4kk2jZzyZCaCHV9t6Axqqx IPv4 address: 172.20.15.0/24\n",
  "minio_node_id = '9kcLeTuseybGHGWw2YXvdu4kk2jZzyZCaCHV9t6Axqqx'\n",
  "minio_node_ip = '172.20.15.16'\n",
  "# ----------------------------------------------------------------------------------\n",
  "reservation_network = zos.reservation_create()\n",
  "reservation_zdbs = zos.reservation_create()\n",
  "reservation_storage = zos.reservation_create()\n",
  "\n",
  "rid_network=0\n",
  "rid_zdbs=0\n",
  "rid_storage=0\n",
  "\n",
  "password = \"supersecret\"\n",
  "\n",
  "# ----------------------------------------------------------------------------------\n",
  "# Select and create a reservation for nodes to deploy a ZDB\n",
  "# first find the node where to reserve 0-DB namespaces. Select all the salzburg nodes\n",
  "# ----------------------------------------------------------------------------------\n",
  "\n",
  "nodes_salzburg = zos.nodes_finder.nodes_search(farm_id=12775) # (IPv6 nodes)\n",
  "nodes_vienna_1 = zos.nodes_finder.nodes_search(farm_id=82872) # (IPv6 nodes)\n",
  "\n",
  "# ----------------------------------------------------------------------------------\n",
  "# Definition of functional nodes\n",
  "# ----------------------------------------------------------------------------------\n",
  "nodes_all = nodes_salzburg[5:8] + nodes_vienna_1[5:8]\n",
  "\n",
  "# ----------------------------------------------------------------------------------\n",
  "# Create ZDB reservation for the selected nodes\n",
  "# ----------------------------------------------------------------------------------\n",
  "for node in nodes_all:\n",
  "  zos.zdb.create(\n",
  "    reservation=reservation_zdbs,\n",
  "    node_id=node.node_id,\n",
  "    size=10,\n",
  "    mode='seq',\n",
  "    password='supersecret',\n",
  "    disk_type=\"SSD\",\n",
  "    public=False)\n",
  "  "
  ]
 },
 {
  "cell_type": "markdown",
  "metadata": {},
  "source": [
  "#### Prepare and deploy the S3 software container\n",
  "\n",
  "The nodes that will run the storage solution needs some persistent storage. This will create a reservation for a volume on the same node as the software runs and attached this as a volume to the container that will run the storage software. For the reservation duration please set a period of time that allows for expermenting, in this case it is set for one day. "
  ]
 },
 {
  "cell_type": "code",
  "execution_count": null,
  "metadata": {},
  "outputs": [],
  "source": [
  "# Storage solution reservation time\n",
  "nr_of_hours=24\n",
  "\n",
  "# ----------------------------------------------------------------------------------\n",
  "# Attach persistant storage to container - for storing metadata\n",
  "# ---------------------------------------------------------------------------------- \n",
  "volume = zos.volume.create(reservation_storage,minio_node_id,size=10,type='SSD')\n",
  "volume_rid = zos.reservation_register(reservation_storage, j.data.time.epoch+(nr_of_hours*hour), identity=me)\n",
  "results = zos.reservation_result(volume_rid)\n",
  "\n",
  "# ----------------------------------------------------------------------------------\n",
  "# Actuate the reservation for the ZDB's The IP addresses are going to be selfassigned.\n",
  "# ----------------------------------------------------------------------------------\n",
  "expiration = j.data.time.epoch + (nr_of_hours*hour)\n",
  "\n",
  "# register the reservation\n",
  "rid_zdb = zos.reservation_register(reservation_zdbs, expiration, identity=me)\n",
  "time.sleep(5)\n",
  "\n",
  "results = zos.reservation_result(rid_zdb)"
  ]
 },
 {
  "cell_type": "markdown",
  "metadata": {},
  "source": [
  "With the low level zero-DB reservations done and stored the `results` variable (these storage managers will get an IPv4 address assigned from the local `/24` node network. We need to store those addresses in `namespace_config` to pass it to the container running the storage software."
  ]
 },
 {
  "cell_type": "code",
  "execution_count": null,
  "metadata": {},
  "outputs": [],
  "source": [
  "# ----------------------------------------------------------------------------------\n",
  "# Read the IP address of the 0-DB namespaces after they are deployed\n",
  "# we will need these IPs when creating the minio container\n",
  "# ----------------------------------------------------------------------------------\n",
  "namespace_config = []\n",
  "for result in results:\n",
  "  data = result.data_json\n",
  "  cfg = f\"{data['Namespace']}:{password}@[{data['IPs']}]:{data['Port']}\"\n",
  "  namespace_config.append(cfg)\n",
  "  \n",
  "# All IP's for the zdb's are now known and stored in the namespace_config structure.\n",
  "print(namespace_config)"
  ]
 },
 {
  "cell_type": "markdown",
  "metadata": {},
  "source": [
  "```\n",
  "['9012-4:supersecret@[2a04:7700:1003:1:54f0:edff:fe87:2c48]:9900', '9012-1:supersecret@[2a02:16a8:1000:0:5c2f:ddff:fe5a:1a70]:9900', '9012-2:supersecret@[2a02:16a8:1000:0:1083:59ff:fe38:ce71]:9900', '9012-7:supersecret@[2003:d6:2f32:8500:dc78:d6ff:fe04:7368]:9900', '9012-3:supersecret@[2a02:16a8:1000:0:fc7c:4aff:fec8:baf]:9900', '9012-5:supersecret@[2a04:7700:1003:1:acc0:2ff:fed3:1692]:9900', '9012-6:supersecret@[2a04:7700:1003:1:ac9d:f3ff:fe6a:47a9]:9900']\n",
  "```"
  ]
 },
 {
  "cell_type": "markdown",
  "metadata": {},
  "source": [
  "Last step is to design the redundacy policy for the storage solution. We have 6 low level devices available (over 6 nodes, in 2 different data centers and cities). So we could build any of the following configurations:\n",
  "\n",
  "| Option | data storage devices | parity storage devices | total devices | overhead |\n",
  "|--------|---|---|---|---|\n",
  "| 1   | 3 | 3 | 6 | 50%% |\n",
  "| 2   | 4 | 2 | 6 | 33% |\n",
  "| 3   | 5 | 1 | 6 | 16% |\n",
  "\n",
  "Now in this example real efficiency of this solution is not achieved, in a real life deployment we would do something like this:\n",
  "\n",
  "| Option | data storage devices | parity storage devices | total devices | overhead |\n",
  "|--------|---|---|---|---|\n",
  "| 4   | 16 | 4 | 20 | 20% |\n",
  "\n",
  "In that case it is highly unlikely that 4 distributed devices will fail at the same time, therefore this is a very robust storage solution\n",
  "\n",
  "\n",
  "Here we choose to deploy scenario 2 with 4 data disks and 2 parity disks."
  ]
 },
 {
  "cell_type": "code",
  "execution_count": null,
  "metadata": {},
  "outputs": [],
  "source": [
  "# ----------------------------------------------------------------------------------\n",
  "# With the low level disk managers done and the IP adresses discovered we could now build\n",
  "# the reservation for the min.io S3 interface.\n",
  "# ----------------------------------------------------------------------------------\n",
  "reservation_minio = zos.reservation_create()\n",
  "\n",
  "# Make sure to adjust the node_id and network name to the appropriate in copy / paste mode :-)\n",
  "minio_container=zos.container.create(reservation=reservation_minio,\n",
  "  node_id=minio_node_id,\n",
  "  network_name=u_networkname,\n",
  "  ip_address=minio_node_ip,\n",
  "  Flist='https://hub.grid.tf/azmy.3Bot/minio.Flist',\n",
  "  interactive=False, \n",
  "  entrypoint='/bin/entrypoint',\n",
  "  cpu=2,\n",
  "  memory=2048,\n",
  "  env={\n",
  "    \"SHARDS\":','.join(namespace_config),\n",
  "    \"DATA\":\"4\",\n",
  "    \"PARITY\":\"2\",\n",
  "    \"ACCESS_KEY\":\"minio\",\n",
  "    \"SECRET_KEY\":\"passwordpassword\",\n",
  "    })"
  ]
 },
 {
  "cell_type": "markdown",
  "metadata": {},
  "source": [
  "With the definition of the S3 container done we now need to attached persistent storage on a volume to store metadata."
  ]
 },
 {
  "cell_type": "code",
  "execution_count": null,
  "metadata": {},
  "outputs": [],
  "source": [
  "# ----------------------------------------------------------------------------------\n",
  "# Attach persistant storage to container - for storing metadata\n",
  "# ---------------------------------------------------------------------------------- \n",
  "zos.volume.attach_existing(\n",
  "  container=minio_container,\n",
  "  volume_id=f'{volume_rid}-{volume.workload_id}',\n",
  "  mount_point='/data')"
  ]
 },
 {
  "cell_type": "markdown",
  "metadata": {},
  "source": [
  "Last but not least, execute the resevation for the storage manager."
  ]
 },
 {
  "cell_type": "code",
  "execution_count": null,
  "metadata": {},
  "outputs": [],
  "source": [
  "# ----------------------------------------------------------------------------------\n",
  "# Write reservation for min.io container in BCDB - end user interface\n",
  "# ----------------------------------------------------------------------------------   \n",
  "expiration = j.data.time.epoch + (nr_of_hours*hour)\n",
  "# register the reservation\n",
  "rid = zos.reservation_register(reservation_minio, expiration, identity=me)\n",
  "time.sleep(5)\n",
  "\n",
  "results = zos.reservation_result(rid)"
  ]
 }
 ],
 "metadata": {
 "kernelspec": {
  "display_name": "Python 3",
  "language": "python",
  "name": "python3"
 },
 "language_info": {
  "codemirror_mode": {
  "name": "ipython",
  "version": 3
  },
  "file_extension": ".py",
  "mimetype": "text/x-python",
  "name": "python",
  "nbconvert_exporter": "python",
  "pygments_lexer": "ipython3",
  "version": "3.7.7"
 }
 },
 "nbformat": 4,
 "nbformat_minor": 4
}