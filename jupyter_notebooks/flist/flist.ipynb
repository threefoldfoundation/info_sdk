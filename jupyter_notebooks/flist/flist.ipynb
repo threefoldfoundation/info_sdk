{
 "cells": [
 {
 "cell_type": "markdown",
 "metadata": {},
 "source": [
 "## Deploy a generic Flist\n",
 "\n",
 "#### Requirements\n",
 "\n",
 "In order to be able to deploy this example deployment you will have to have the following components activated\n",
 "- the TF Grid SDK, in the form of a local container with the SDK, or a grid based SDK container. Getting started instuctions are [here](https://github.com/Threefoldfoundation/info_projectX/tree/development/doc/jumpscale_SDK) \n",
 "- if you use a locally installed container with the 3Bot SDK you need to have the wireguard software installed. Instructions to how to get his installed on your platform could be found [here](https://www.wireguard.com/install/)\n",
 "- capacity reservation are not free so you will need to have some ThreeFold_Tokens (TFT) to play around with. Instructions to get tokens could be found [here](https://github.com/Threefoldfoundation/info_projectX/blob/development/doc/jumpscale_SDK_information/payment/FreeTFT_testtoken.md)\n",
 "\n",
 "After following these install instructions you should end up having a local, working TF Grid SDK installed. You could work / connect to the installed SDK as described [here](https://github.com/Threefoldfoundation/info_projectX/blob/development/doc/jumpscale_SDK/SDK_getting_started.md)\n",
 "\n",
 "### Overview\n",
 "The design a simple kubernetes cluster we need to follow a few steps:\n",
 "- create (or identify and use) an overlay network that spans all of the nodes needed in the solution\n",
 "- identify which nodes are involved in the kubernetes cluster, master and worker nodes\n",
 "- create reservations for the kubernetes virtual machines.\n",
 "- deploy the kubernetes cluster.\n",
 "\n",
 "#### Create overlay network of identity an previously deployed overlay network\n",
 "\n",
 "Each overlay network is private and contains private IP addresses. Each overlay network is deployed in such a way that is has no connection to the public (IPv4 or IPv6) network directly. In order to work with such a network a tunnel needs to be created between the overlay network on the grid and your local network. You could find instructions how to do that [here](https://github.com/Threefoldfoundation/info_projectX/blob/development/doc/jumpscale_SDK_examples/network/overlay_network.md)"
 ]
 },
 {
 "cell_type": "markdown",
 "metadata": {},
 "source": [
 "#### Set up the capacity environment to find, reserve and configure\n",
 "\n",
 "Make sure that your SDK points to the mainnet explorer for deploying this capacity example. Also make sure you have an identity loaded. The example code uses the default identity. Multiple identities could be stored in the TF Grid SDK. To check your available identities you could request the number of identities available for you by typing `j.tools.threebot.me` in the kosmos shell.\n"
 ]
 },
 {
 "cell_type": "code",
 "execution_count": null,
 "metadata": {},
 "outputs": [],
 "source": [
 "j.clients.explorer.default_addr_set('explorer.grid.tf')\n",
 "\n",
 "# Which identities are available in you SDK\n",
 "j.tools.threebot.me\n",
 "\n",
 "# Make sure I have an identity (set default one for mainnet of testnet)\n",
 "me = j.tools.threebot.me.default\n",
 "\n",
 "# Load the zero-os sal and reate empty reservation method\n",
 "zos = j.sal.zosv2\n",
 "r = zos.reservation_create()"
 ]
 },
 {
 "cell_type": "markdown",
 "metadata": {},
 "source": [
 "#### What is an Flist? \n",
 "\n",
 "An Flist is a very special container images. One of the challenges with industry leading technologies like docker and kubernetes is that every node involved in an IT architecture has to have local copies of all of the images it needs to run as containers. These could either be base images on which specific modifications need to be made or they are specific images downloaded from the docker hub or a private image repository (enterprise use cases). Having these images exists on many different nodes requires these to be downloaded and maintained for version control and bug fixes. This is waistfull (many times the same image required storage space) and time consuming. \n",
 "\n",
 "The Flist solves that issue by facilitating container images to be made available on fly to nodes that needs the content of a container image over the network from a so called hub. There is a public hub that serves images but the hub facility is open source and could be replicated for private or corporate usage. The hub could be found here: `http://hub.grid.tf`.\n",
 "\n",
 "The Flist represents a very efficient way to distribute de-duped container image with a bandwidth optmised transfer process and increased security by signed files. For (a lot) more details please go here:\n",
 "\n",
 " * generic description [here](https://github.com/Threefoldtech/0-Flist/blob/development/doc/Flist.md)\n",
 " * GitHub repository [here](https://github.com/Threefoldtech/0-Flist)\n",
 " * FreeFlow pages [article](http://freeflowpages.com/content/perma?id=9396)\n",
 " \n",
 "On the public hub there is import functionality to import docker images and create Flists out of them. Another way to create your own tar archives and upload these to transform into Flists. More information with regards to creating, managing and using Flists could be found [here](https://hub.grid.tf/)"
 ]
 },
 {
 "cell_type": "markdown",
 "metadata": {},
 "source": [
 "#### Select which Flist to deploy?\n",
 "\n",
 "For this example we selected the code-server Flist in public hub. The code-server Flist is based on an open opensource software managed here: https://github.com/Microsoft/vscode. Its visual studio code providing a very feature rich coding and code management environment. The Flist could be found [here](https://hub.grid.tf/weynandkuijpers.3Bot/codercom-code-server-latest.Flist).\n",
 "\n",
 "#### Node selection and parameters.\n",
 "You have created a network in the network creation [notebook](https://github.com/Threefoldfoundation/info_projectX/blob/development/code/jupyter/SDK_examples/network/overlay_network.ipynb) with the following details:\n",
 "\n",
 "```python\n",
 "demo_ip_range=\"172.20.0.0/16\"\n",
 "demo_port=8030\n",
 "demo_network_name=\"demo_network_name_01\"\n",
 "```\n",
 "When you executed the reservation it also provided you with data on order number, node ID and private network range on the node. All the nodes in the network are connected peer2peer with a wireguard tunnel. On these nodes we could now launch the Flist. For this solution we will be using some of these nodes as master nodes and others as worker nodes. Using the ouput of the network reservation notebook to describe the high level design of the kubernetes cluster:\n",
 "\n",
 "| Nr. | Location | Node ID. | IPV4 network | Function. |\n",
 "|--------|---|---|---|---|\n",
 "| 1 | Salzburg | 9kcLeTuseybGHGWw2YXvdu4kk2jZzyZCaCHV9t6Axqqx | 172.20.15.0/24 | Available |\n",
 "| 2 | Salzburg | 3h4TKp11bNWjb2UemgrVwayuPnYcs2M1bccXvi3jPR2Y | 172.20.16.0/24 | Available |\n",
 "| 3 | Salzburg | FUq4Sz7CdafZYV2qJmTe3Rs4U4fxtJFcnV6mPNgGbmRg | 172.20.17.0/24 | Available|\n",
 "| 4 | Vienna | 9LmpYPBhnrL9VrboNmycJoGfGDjuaMNGsGQKeqrUMSii | 172.20.28.0/24 | Available |\n",
 "| 5 | Vienna | 3FPB4fPoxw8WMHsqdLHamfXAdUrcRwdZY7hxsFQt3odL | 172.20.29.0/24 | Available |\n",
 "| 6 | Vienna | CrgLXq3w2Pavr7XrVA7HweH6LJvLWnKPwUbttcNNgJX7 | 172.20.30.0/24 | Available |\n",
 "\n",
 "\n",
 "The reservation for a general purpose Flist has the following structure\n",
 "```python\n",
 "zos.container.create(reservation=r,\n",
 "     node_id=string,    # node_id to make the capacity reservation on and deploy the Flist\n",
 "     network_name=string,  # network_name deployed on the node (node could have multiple private networks)\n",
 "     ip_address=string,   # one IP address in the range of the chosen network_name on the node\n",
 "     Flist=string,    # Flist of the container you want to install, htttp hub location.\n",
 "     interactive=Bolean,   # True of False. When True the entrypoint start commend is ignored and a web interface to the coreX process will de started instead\n",
 "     cpu=integer,    # number of logical cores\n",
 "     memory=interger,   # number of mBs of memory\n",
 "         # env={},           # field for parameters like needed in the container environment \n",
  "          entrypoint=string)     # start command to get the software running in the container\n",
  "```\n",
  "\n",
  "For more details and options please see [here](https://github.com/Threefoldtech/jumpscaleX_libs/blob/master/JumpscaleLibs/sal/zosv2/container.py)\n",
  "\n",
  "Provinding the corect detais allows us to deploy the code-server container."
  ]
 },
 {
  "cell_type": "code",
  "execution_count": null,
  "metadata": {},
  "outputs": [],
  "source": [
  "r = zos.reservation_create()\n",
  "\n",
  "# Add data to method to what to deploy. Example is code server\n",
  "zos.container.create(reservation=r,\n",
  "          node_id='CrgLXq3w2Pavr7XrVA7HweH6LJvLWnKPwUbttcNNgJX7', # one of the node_id that is part of the network\n",
  "          network_name=u_networkname, # this assume this network is already provisioned on the node\n",
  "          ip_address='172.20.30.11', # part of ip_range you reserved for your network xxx.xxx.1.10\n",
  "          Flist='https://hub.grid.tf/weynandkuijpers.3Bot/codercom-code-server-latest.Flist', # Flist of the container you want to install\n",
  "          interactive=True,     # True only if corex_connect required, default false\n",
  "          cpu=4,\n",
  "          memory=4196,\n",
  "         # env={},          # field for parameters like config \n",
  "          entrypoint='/sbin/my_init')"
  ]
 },
 {
  "cell_type": "markdown",
  "metadata": {},
  "source": [
  "Having defined registration structure `r` we could now deploy. In this example we deploy for 5 minutes (adapt if required"
  ]
 },
 {
  "cell_type": "code",
  "execution_count": null,
  "metadata": {},
  "outputs": [],
  "source": [
  "# methods needed to do time calculations\n",
  "import time\n",
  "\n",
  "# reserve until now + (x) seconds\n",
  "expiration = j.data.time.epoch + (5*60)\n",
  "# register the reservation\n",
  "rid = zos.reservation_register(r, expiration, identity=me)\n",
  "time.sleep(5)\n",
  "\n",
  "# inspect the result of the reservation provisioning\n",
  "result = zos.reservation_result(rid)"
  ]
 },
 {
  "cell_type": "markdown",
  "metadata": {},
  "source": [
  "The reservation had the interactive flag set to True which means the container did not start the entrypoint container bootstrap command. It has created a secure web interface to the corX process where we could now manualy enter the container and start and stop processes. Access is provided through http (as the connection is an encrypted wireguard tunnel)."
  ]
 },
 {
  "cell_type": "code",
  "execution_count": null,
  "metadata": {},
  "outputs": [],
  "source": [
  "# See the coreX interface (should be empty)\n",
  "https://172.20.30.11:7681/\n",
  "    \n",
  "# Start a bash shell through the coreX process manager\n",
  "https://172.20.30.11:7681/api/process/start?arg[]=/bin/bash\n",
  "    \n",
  "# See the list of processes in coreX\n",
  "https://172.20.30.11:7681/\n",
  "    \n",
  "# Click on the bash process to get shell access."
  ]
 }
 ],
 "metadata": {
 "kernelspec": {
  "display_name": "Python 3",
  "language": "python",
  "name": "python3"
 },
 "language_info": {
  "codemirror_mode": {
  "name": "ipython",
  "version": 3
  },
  "file_extension": ".py",
  "mimetype": "text/x-python",
  "name": "python",
  "nbconvert_exporter": "python",
  "pygments_lexer": "ipython3",
  "version": "3.7.7"
 }
 },
 "nbformat": 4,
 "nbformat_minor": 4
}
